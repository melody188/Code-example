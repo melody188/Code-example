{
 "cells": [
  {
   "cell_type": "code",
   "execution_count": 1,
   "metadata": {
    "ExecuteTime": {
     "end_time": "2019-08-09T04:09:39.715519Z",
     "start_time": "2019-08-09T04:09:39.535639Z"
    }
   },
   "outputs": [],
   "source": [
    "%load_ext autoreload\n",
    "%autoreload 2"
   ]
  },
  {
   "cell_type": "markdown",
   "metadata": {},
   "source": [
    "# Description:\n",
    "This notebook is used to show how to build GBM models using covariate adjustment method using the code/"
   ]
  },
  {
   "cell_type": "code",
   "execution_count": 2,
   "metadata": {
    "ExecuteTime": {
     "end_time": "2019-08-09T04:09:41.114349Z",
     "start_time": "2019-08-09T04:09:41.094282Z"
    }
   },
   "outputs": [],
   "source": [
    "import os\n",
    "import sys\n",
    "\n",
    "add_paths = ['..']\n",
    "for add_path in add_paths:\n",
    "    module_path = os.path.abspath(os.path.join(add_path))\n",
    "    if module_path not in sys.path:\n",
    "        sys.path.append(module_path)\n",
    "        #print(f'Adding: {module_path}')"
   ]
  },
  {
   "cell_type": "code",
   "execution_count": 3,
   "metadata": {
    "ExecuteTime": {
     "end_time": "2019-08-09T04:09:57.115397Z",
     "start_time": "2019-08-09T04:09:53.211726Z"
    }
   },
   "outputs": [],
   "source": [
    "import pandas as pd\n",
    "import numpy as np\n",
    "import h2o\n",
    "\n",
    "from sto.utils.mask_data import generate_masked_data\n",
    "from sto.variants.gbm.config import DELIVERY_ID_COL, TIME_ID_COL\n",
    "from sto.variants.gbm.prior_gbm import GBM\n",
    "from sto.variants.gbm.config import GbmHyperParas\n",
    "\n",
    "from sto.utils.back_test import generate_train_test_range, select_tr_te_dat\n",
    "from dateutil.relativedelta import relativedelta\n",
    "from datetime import date"
   ]
  },
  {
   "cell_type": "code",
   "execution_count": 4,
   "metadata": {
    "ExecuteTime": {
     "end_time": "2019-08-09T04:10:06.448397Z",
     "start_time": "2019-08-09T04:10:00.604980Z"
    }
   },
   "outputs": [
    {
     "name": "stdout",
     "output_type": "stream",
     "text": [
      "Checking whether there is an H2O instance running at http://localhost:54321 ..... not found.\n",
      "Attempting to start a local H2O server...\n",
      "  Java Version: java version \"11.0.3\" 2019-04-16 LTS; Java(TM) SE Runtime Environment 18.9 (build 11.0.3+12-LTS); Java HotSpot(TM) 64-Bit Server VM 18.9 (build 11.0.3+12-LTS, mixed mode)\n",
      "  Starting server from /anaconda3/lib/python3.7/site-packages/h2o/backend/bin/h2o.jar\n",
      "  Ice root: /var/folders/5v/zvxsqfsx2zx9qdndlwyczdrm0000gn/T/tmp7hp6vli2\n",
      "  JVM stdout: /var/folders/5v/zvxsqfsx2zx9qdndlwyczdrm0000gn/T/tmp7hp6vli2/h2o_chanliu_started_from_python.out\n",
      "  JVM stderr: /var/folders/5v/zvxsqfsx2zx9qdndlwyczdrm0000gn/T/tmp7hp6vli2/h2o_chanliu_started_from_python.err\n",
      "  Server is running at http://127.0.0.1:54321\n",
      "Connecting to H2O server at http://127.0.0.1:54321 ... successful.\n"
     ]
    },
    {
     "data": {
      "text/html": [
       "<div style=\"overflow:auto\"><table style=\"width:50%\"><tr><td>H2O cluster uptime:</td>\n",
       "<td>02 secs</td></tr>\n",
       "<tr><td>H2O cluster timezone:</td>\n",
       "<td>America/Los_Angeles</td></tr>\n",
       "<tr><td>H2O data parsing timezone:</td>\n",
       "<td>UTC</td></tr>\n",
       "<tr><td>H2O cluster version:</td>\n",
       "<td>3.26.0.2</td></tr>\n",
       "<tr><td>H2O cluster version age:</td>\n",
       "<td>12 days </td></tr>\n",
       "<tr><td>H2O cluster name:</td>\n",
       "<td>H2O_from_python_chanliu_sbbp9r</td></tr>\n",
       "<tr><td>H2O cluster total nodes:</td>\n",
       "<td>1</td></tr>\n",
       "<tr><td>H2O cluster free memory:</td>\n",
       "<td>2 Gb</td></tr>\n",
       "<tr><td>H2O cluster total cores:</td>\n",
       "<td>4</td></tr>\n",
       "<tr><td>H2O cluster allowed cores:</td>\n",
       "<td>4</td></tr>\n",
       "<tr><td>H2O cluster status:</td>\n",
       "<td>accepting new members, healthy</td></tr>\n",
       "<tr><td>H2O connection url:</td>\n",
       "<td>http://127.0.0.1:54321</td></tr>\n",
       "<tr><td>H2O connection proxy:</td>\n",
       "<td>None</td></tr>\n",
       "<tr><td>H2O internal security:</td>\n",
       "<td>False</td></tr>\n",
       "<tr><td>H2O API Extensions:</td>\n",
       "<td>Amazon S3, XGBoost, Algos, AutoML, Core V3, Core V4</td></tr>\n",
       "<tr><td>Python version:</td>\n",
       "<td>3.7.3 final</td></tr></table></div>"
      ],
      "text/plain": [
       "--------------------------  ---------------------------------------------------\n",
       "H2O cluster uptime:         02 secs\n",
       "H2O cluster timezone:       America/Los_Angeles\n",
       "H2O data parsing timezone:  UTC\n",
       "H2O cluster version:        3.26.0.2\n",
       "H2O cluster version age:    12 days\n",
       "H2O cluster name:           H2O_from_python_chanliu_sbbp9r\n",
       "H2O cluster total nodes:    1\n",
       "H2O cluster free memory:    2 Gb\n",
       "H2O cluster total cores:    4\n",
       "H2O cluster allowed cores:  4\n",
       "H2O cluster status:         accepting new members, healthy\n",
       "H2O connection url:         http://127.0.0.1:54321\n",
       "H2O connection proxy:\n",
       "H2O internal security:      False\n",
       "H2O API Extensions:         Amazon S3, XGBoost, Algos, AutoML, Core V3, Core V4\n",
       "Python version:             3.7.3 final\n",
       "--------------------------  ---------------------------------------------------"
      ]
     },
     "metadata": {},
     "output_type": "display_data"
    }
   ],
   "source": [
    "h2o.init()\n",
    "h2o.no_progress()"
   ]
  },
  {
   "cell_type": "markdown",
   "metadata": {},
   "source": [
    "# Training with different hyper parameters"
   ]
  },
  {
   "cell_type": "markdown",
   "metadata": {},
   "source": [
    "## Load data"
   ]
  },
  {
   "cell_type": "code",
   "execution_count": 5,
   "metadata": {
    "ExecuteTime": {
     "end_time": "2019-08-09T04:10:06.661676Z",
     "start_time": "2019-08-09T04:10:06.559686Z"
    }
   },
   "outputs": [],
   "source": [
    "df = pd.read_csv('../data/unilever_sto_control.csv')"
   ]
  },
  {
   "cell_type": "markdown",
   "metadata": {},
   "source": [
    "### Get a low coverage training data"
   ]
  },
  {
   "cell_type": "code",
   "execution_count": 6,
   "metadata": {
    "ExecuteTime": {
     "end_time": "2019-08-09T04:10:07.975275Z",
     "start_time": "2019-08-09T04:10:07.784284Z"
    }
   },
   "outputs": [
    {
     "name": "stdout",
     "output_type": "stream",
     "text": [
      "0 (1)\n"
     ]
    }
   ],
   "source": [
    "n_repeat = 1\n",
    "p = 0.8\n",
    "mask_cols = [DELIVERY_ID_COL, TIME_ID_COL]\n",
    "df_selected, df_unselected = generate_masked_data(df,\n",
    "                                                  n_repeat,\n",
    "                                                  p,\n",
    "                                                  mask_cols=mask_cols,\n",
    "                                                  max_try=1000,\n",
    "                                                  seed=2,\n",
    "                                                  training_prop=False)"
   ]
  },
  {
   "cell_type": "code",
   "execution_count": 7,
   "metadata": {
    "ExecuteTime": {
     "end_time": "2019-08-09T04:10:09.182527Z",
     "start_time": "2019-08-09T04:10:09.126180Z"
    }
   },
   "outputs": [],
   "source": [
    "i = 0\n",
    "df_selected_i = df_selected[0].copy()\n",
    "df_test = df_unselected[0].copy()"
   ]
  },
  {
   "cell_type": "code",
   "execution_count": 8,
   "metadata": {
    "ExecuteTime": {
     "end_time": "2019-08-09T04:10:10.445538Z",
     "start_time": "2019-08-09T04:10:10.397189Z"
    }
   },
   "outputs": [
    {
     "data": {
      "text/html": [
       "<div>\n",
       "<style scoped>\n",
       "    .dataframe tbody tr th:only-of-type {\n",
       "        vertical-align: middle;\n",
       "    }\n",
       "\n",
       "    .dataframe tbody tr th {\n",
       "        vertical-align: top;\n",
       "    }\n",
       "\n",
       "    .dataframe thead th {\n",
       "        text-align: right;\n",
       "    }\n",
       "</style>\n",
       "<table border=\"1\" class=\"dataframe\">\n",
       "  <thead>\n",
       "    <tr style=\"text-align: right;\">\n",
       "      <th></th>\n",
       "      <th>COUNTRY</th>\n",
       "      <th>DELIVERY_ID</th>\n",
       "      <th>TIME_ID</th>\n",
       "      <th>sent_count</th>\n",
       "      <th>response_count</th>\n",
       "    </tr>\n",
       "  </thead>\n",
       "  <tbody>\n",
       "    <tr>\n",
       "      <th>0</th>\n",
       "      <td>DE</td>\n",
       "      <td>DM30589</td>\n",
       "      <td>0</td>\n",
       "      <td>6886</td>\n",
       "      <td>341</td>\n",
       "    </tr>\n",
       "    <tr>\n",
       "      <th>1</th>\n",
       "      <td>DE</td>\n",
       "      <td>DM30589</td>\n",
       "      <td>1</td>\n",
       "      <td>7003</td>\n",
       "      <td>349</td>\n",
       "    </tr>\n",
       "    <tr>\n",
       "      <th>2</th>\n",
       "      <td>DE</td>\n",
       "      <td>DM30589</td>\n",
       "      <td>2</td>\n",
       "      <td>7001</td>\n",
       "      <td>319</td>\n",
       "    </tr>\n",
       "    <tr>\n",
       "      <th>3</th>\n",
       "      <td>DE</td>\n",
       "      <td>DM30589</td>\n",
       "      <td>4</td>\n",
       "      <td>7240</td>\n",
       "      <td>358</td>\n",
       "    </tr>\n",
       "    <tr>\n",
       "      <th>4</th>\n",
       "      <td>DE</td>\n",
       "      <td>DM30589</td>\n",
       "      <td>5</td>\n",
       "      <td>7042</td>\n",
       "      <td>351</td>\n",
       "    </tr>\n",
       "  </tbody>\n",
       "</table>\n",
       "</div>"
      ],
      "text/plain": [
       "  COUNTRY DELIVERY_ID  TIME_ID  sent_count  response_count\n",
       "0      DE     DM30589        0        6886             341\n",
       "1      DE     DM30589        1        7003             349\n",
       "2      DE     DM30589        2        7001             319\n",
       "3      DE     DM30589        4        7240             358\n",
       "4      DE     DM30589        5        7042             351"
      ]
     },
     "execution_count": 8,
     "metadata": {},
     "output_type": "execute_result"
    }
   ],
   "source": [
    "df_selected_i.head()"
   ]
  },
  {
   "cell_type": "code",
   "execution_count": 9,
   "metadata": {
    "ExecuteTime": {
     "end_time": "2019-08-09T04:10:11.290321Z",
     "start_time": "2019-08-09T04:10:11.240727Z"
    }
   },
   "outputs": [
    {
     "data": {
      "text/html": [
       "<div>\n",
       "<style scoped>\n",
       "    .dataframe tbody tr th:only-of-type {\n",
       "        vertical-align: middle;\n",
       "    }\n",
       "\n",
       "    .dataframe tbody tr th {\n",
       "        vertical-align: top;\n",
       "    }\n",
       "\n",
       "    .dataframe thead th {\n",
       "        text-align: right;\n",
       "    }\n",
       "</style>\n",
       "<table border=\"1\" class=\"dataframe\">\n",
       "  <thead>\n",
       "    <tr style=\"text-align: right;\">\n",
       "      <th></th>\n",
       "      <th>COUNTRY</th>\n",
       "      <th>DELIVERY_ID</th>\n",
       "      <th>TIME_ID</th>\n",
       "      <th>sent_count</th>\n",
       "      <th>response_count</th>\n",
       "    </tr>\n",
       "  </thead>\n",
       "  <tbody>\n",
       "    <tr>\n",
       "      <th>0</th>\n",
       "      <td>DE</td>\n",
       "      <td>DM30589</td>\n",
       "      <td>3</td>\n",
       "      <td>7109</td>\n",
       "      <td>362</td>\n",
       "    </tr>\n",
       "    <tr>\n",
       "      <th>1</th>\n",
       "      <td>DE</td>\n",
       "      <td>DM30589</td>\n",
       "      <td>22</td>\n",
       "      <td>7048</td>\n",
       "      <td>337</td>\n",
       "    </tr>\n",
       "    <tr>\n",
       "      <th>2</th>\n",
       "      <td>DE</td>\n",
       "      <td>DM30730</td>\n",
       "      <td>26</td>\n",
       "      <td>6692</td>\n",
       "      <td>282</td>\n",
       "    </tr>\n",
       "    <tr>\n",
       "      <th>3</th>\n",
       "      <td>DE</td>\n",
       "      <td>DM30730</td>\n",
       "      <td>28</td>\n",
       "      <td>6496</td>\n",
       "      <td>246</td>\n",
       "    </tr>\n",
       "    <tr>\n",
       "      <th>4</th>\n",
       "      <td>DE</td>\n",
       "      <td>DM30730</td>\n",
       "      <td>35</td>\n",
       "      <td>6553</td>\n",
       "      <td>267</td>\n",
       "    </tr>\n",
       "  </tbody>\n",
       "</table>\n",
       "</div>"
      ],
      "text/plain": [
       "  COUNTRY DELIVERY_ID  TIME_ID  sent_count  response_count\n",
       "0      DE     DM30589        3        7109             362\n",
       "1      DE     DM30589       22        7048             337\n",
       "2      DE     DM30730       26        6692             282\n",
       "3      DE     DM30730       28        6496             246\n",
       "4      DE     DM30730       35        6553             267"
      ]
     },
     "execution_count": 9,
     "metadata": {},
     "output_type": "execute_result"
    }
   ],
   "source": [
    "df_test.head()"
   ]
  },
  {
   "cell_type": "markdown",
   "metadata": {},
   "source": [
    "## Train with default parameters"
   ]
  },
  {
   "cell_type": "code",
   "execution_count": 10,
   "metadata": {
    "ExecuteTime": {
     "end_time": "2019-08-09T04:10:12.939614Z",
     "start_time": "2019-08-09T04:10:12.884048Z"
    }
   },
   "outputs": [],
   "source": [
    "gbm_hyperparameter = GbmHyperParas(split_method='mask', tuning_times=3)"
   ]
  },
  {
   "cell_type": "code",
   "execution_count": 11,
   "metadata": {
    "ExecuteTime": {
     "end_time": "2019-08-09T04:10:14.636737Z",
     "start_time": "2019-08-09T04:10:14.584455Z"
    }
   },
   "outputs": [
    {
     "data": {
      "text/plain": [
       "GbmHyperParas(label_col='label', delivery_id_col='DELIVERY_ID', time_id_col='TIME_ID', column_types={'TIME_ID': 'factor', 'label': 'factor'}, weight_column='weight_count', sent_count_col='sent_count', response_count_col='response_count', response_rate_col='response_rate', score_col='pred_rate', extra_attributes=[], use_time=True, alpha=None, delivery_id_transform_method='category_mean', ntrees=200, learn_rate=0.2, max_depth=10, categorical_encoding='enum', split_method='mask', attr_to_match=['DELIVERY_ID', 'TIME_ID'], tuning_times=3, max_try=1000, seed=1, split_proportion=0.7)"
      ]
     },
     "execution_count": 11,
     "metadata": {},
     "output_type": "execute_result"
    }
   ],
   "source": [
    "gbm_hyperparameter"
   ]
  },
  {
   "cell_type": "code",
   "execution_count": 12,
   "metadata": {
    "ExecuteTime": {
     "end_time": "2019-08-09T04:10:20.723234Z",
     "start_time": "2019-08-09T04:10:15.089210Z"
    }
   },
   "outputs": [
    {
     "data": {
      "text/plain": [
       "<sto.variants.gbm.prior_gbm.GBM at 0x1a2639bbe0>"
      ]
     },
     "execution_count": 12,
     "metadata": {},
     "output_type": "execute_result"
    }
   ],
   "source": [
    "gbm = GBM(gbm_hyperparameter)\n",
    "gbm.train(df_selected_i)"
   ]
  },
  {
   "cell_type": "code",
   "execution_count": 13,
   "metadata": {
    "ExecuteTime": {
     "end_time": "2019-08-09T04:10:21.528251Z",
     "start_time": "2019-08-09T04:10:20.918754Z"
    }
   },
   "outputs": [],
   "source": [
    "# get predicted rates on entire data\n",
    "df_pred = gbm.predict(df)"
   ]
  },
  {
   "cell_type": "code",
   "execution_count": 14,
   "metadata": {
    "ExecuteTime": {
     "end_time": "2019-08-09T04:10:21.798038Z",
     "start_time": "2019-08-09T04:10:21.731979Z"
    }
   },
   "outputs": [
    {
     "data": {
      "text/html": [
       "<div>\n",
       "<style scoped>\n",
       "    .dataframe tbody tr th:only-of-type {\n",
       "        vertical-align: middle;\n",
       "    }\n",
       "\n",
       "    .dataframe tbody tr th {\n",
       "        vertical-align: top;\n",
       "    }\n",
       "\n",
       "    .dataframe thead th {\n",
       "        text-align: right;\n",
       "    }\n",
       "</style>\n",
       "<table border=\"1\" class=\"dataframe\">\n",
       "  <thead>\n",
       "    <tr style=\"text-align: right;\">\n",
       "      <th></th>\n",
       "      <th>COUNTRY</th>\n",
       "      <th>DELIVERY_ID</th>\n",
       "      <th>TIME_ID</th>\n",
       "      <th>sent_count</th>\n",
       "      <th>response_count</th>\n",
       "      <th>pred_rate</th>\n",
       "    </tr>\n",
       "  </thead>\n",
       "  <tbody>\n",
       "    <tr>\n",
       "      <th>0</th>\n",
       "      <td>DE</td>\n",
       "      <td>DM30589</td>\n",
       "      <td>0</td>\n",
       "      <td>6886</td>\n",
       "      <td>341</td>\n",
       "      <td>0.049875</td>\n",
       "    </tr>\n",
       "    <tr>\n",
       "      <th>1</th>\n",
       "      <td>DE</td>\n",
       "      <td>DM30589</td>\n",
       "      <td>1</td>\n",
       "      <td>7003</td>\n",
       "      <td>349</td>\n",
       "      <td>0.048228</td>\n",
       "    </tr>\n",
       "    <tr>\n",
       "      <th>2</th>\n",
       "      <td>DE</td>\n",
       "      <td>DM30589</td>\n",
       "      <td>2</td>\n",
       "      <td>7001</td>\n",
       "      <td>319</td>\n",
       "      <td>0.048342</td>\n",
       "    </tr>\n",
       "    <tr>\n",
       "      <th>3</th>\n",
       "      <td>DE</td>\n",
       "      <td>DM30589</td>\n",
       "      <td>3</td>\n",
       "      <td>7109</td>\n",
       "      <td>362</td>\n",
       "      <td>0.051572</td>\n",
       "    </tr>\n",
       "    <tr>\n",
       "      <th>4</th>\n",
       "      <td>DE</td>\n",
       "      <td>DM30589</td>\n",
       "      <td>4</td>\n",
       "      <td>7240</td>\n",
       "      <td>358</td>\n",
       "      <td>0.048171</td>\n",
       "    </tr>\n",
       "  </tbody>\n",
       "</table>\n",
       "</div>"
      ],
      "text/plain": [
       "  COUNTRY DELIVERY_ID  TIME_ID  sent_count  response_count  pred_rate\n",
       "0      DE     DM30589        0        6886             341   0.049875\n",
       "1      DE     DM30589        1        7003             349   0.048228\n",
       "2      DE     DM30589        2        7001             319   0.048342\n",
       "3      DE     DM30589        3        7109             362   0.051572\n",
       "4      DE     DM30589        4        7240             358   0.048171"
      ]
     },
     "execution_count": 14,
     "metadata": {},
     "output_type": "execute_result"
    }
   ],
   "source": [
    "df_pred.head()"
   ]
  },
  {
   "cell_type": "code",
   "execution_count": 15,
   "metadata": {
    "ExecuteTime": {
     "end_time": "2019-08-09T04:10:22.831259Z",
     "start_time": "2019-08-09T04:10:22.034073Z"
    }
   },
   "outputs": [
    {
     "data": {
      "text/plain": [
       "OrderedDict([('ap_at_3_lift_del_mean', 0.05771903130418751),\n",
       "             ('ap_at_3_lift_del_std', 0.03284796966278112),\n",
       "             ('top_1_lift_del_mean', 0.052776587912613714),\n",
       "             ('top_1_lift_del_std', 0.04857966164702544)])"
      ]
     },
     "execution_count": 15,
     "metadata": {},
     "output_type": "execute_result"
    }
   ],
   "source": [
    "# evaluate on the entire data\n",
    "metric = gbm.evaluate(df)\n",
    "metric"
   ]
  },
  {
   "cell_type": "markdown",
   "metadata": {},
   "source": [
    "## Change hyper parameters and retrain the model"
   ]
  },
  {
   "cell_type": "markdown",
   "metadata": {},
   "source": [
    "###### One option"
   ]
  },
  {
   "cell_type": "code",
   "execution_count": 16,
   "metadata": {
    "ExecuteTime": {
     "end_time": "2019-08-09T04:10:23.032632Z",
     "start_time": "2019-08-09T04:10:22.995201Z"
    }
   },
   "outputs": [],
   "source": [
    "gbm_hyperparameter = GbmHyperParas(split_method='mask', tuning_times=3, \n",
    "                                   ntrees=50, learn_rate=0.1)"
   ]
  },
  {
   "cell_type": "markdown",
   "metadata": {},
   "source": [
    "###### The other option"
   ]
  },
  {
   "cell_type": "code",
   "execution_count": 17,
   "metadata": {
    "ExecuteTime": {
     "end_time": "2019-08-09T04:10:23.264977Z",
     "start_time": "2019-08-09T04:10:23.214585Z"
    }
   },
   "outputs": [
    {
     "data": {
      "text/plain": [
       "GbmHyperParas(label_col='label', delivery_id_col='DELIVERY_ID', time_id_col='TIME_ID', column_types={'TIME_ID': 'factor', 'label': 'factor'}, weight_column='weight_count', sent_count_col='sent_count', response_count_col='response_count', response_rate_col='response_rate', score_col='pred_rate', extra_attributes=[], use_time=True, alpha=None, delivery_id_transform_method='category_mean', ntrees=500, learn_rate=0.01, max_depth=10, categorical_encoding='enum', split_method='mask', attr_to_match=['DELIVERY_ID', 'TIME_ID'], tuning_times=3, max_try=1000, seed=1, split_proportion=0.7)"
      ]
     },
     "execution_count": 17,
     "metadata": {},
     "output_type": "execute_result"
    }
   ],
   "source": [
    "gbm_hyperparameter = GbmHyperParas(split_method='mask', tuning_times=3)\n",
    "gbm_hyperparameter.ntrees = 500\n",
    "gbm_hyperparameter.learn_rate = 0.01\n",
    "gbm_hyperparameter"
   ]
  },
  {
   "cell_type": "code",
   "execution_count": 18,
   "metadata": {
    "ExecuteTime": {
     "end_time": "2019-08-09T04:10:28.512892Z",
     "start_time": "2019-08-09T04:10:23.437412Z"
    }
   },
   "outputs": [
    {
     "data": {
      "text/plain": [
       "OrderedDict([('ap_at_3_lift_del_mean', 0.062351085850487625),\n",
       "             ('ap_at_3_lift_del_std', 0.03149674165052149),\n",
       "             ('top_1_lift_del_mean', 0.06690678411886386),\n",
       "             ('top_1_lift_del_std', 0.043154608431337775)])"
      ]
     },
     "execution_count": 18,
     "metadata": {},
     "output_type": "execute_result"
    }
   ],
   "source": [
    "# train and evaluate\n",
    "gbm = GBM(gbm_hyperparameter)\n",
    "gbm.train(df_selected_i)\n",
    "\n",
    "metric = gbm.evaluate(df)\n",
    "metric"
   ]
  },
  {
   "cell_type": "markdown",
   "metadata": {},
   "source": [
    "## Tunning the GBM hyper parameters"
   ]
  },
  {
   "cell_type": "code",
   "execution_count": 19,
   "metadata": {
    "ExecuteTime": {
     "end_time": "2019-08-09T04:10:28.683859Z",
     "start_time": "2019-08-09T04:10:28.649671Z"
    }
   },
   "outputs": [],
   "source": [
    "gbm_hyperparameter = GbmHyperParas(split_method='mask', tuning_times=3, \n",
    "                                   ntrees=10, learn_rate=0.5)\n",
    "gbm = GBM(gbm_hyperparameter)"
   ]
  },
  {
   "cell_type": "code",
   "execution_count": 20,
   "metadata": {
    "ExecuteTime": {
     "end_time": "2019-08-09T04:10:28.860843Z",
     "start_time": "2019-08-09T04:10:28.825210Z"
    }
   },
   "outputs": [
    {
     "data": {
      "text/plain": [
       "GbmHyperParas(label_col='label', delivery_id_col='DELIVERY_ID', time_id_col='TIME_ID', column_types={'TIME_ID': 'factor', 'label': 'factor'}, weight_column='weight_count', sent_count_col='sent_count', response_count_col='response_count', response_rate_col='response_rate', score_col='pred_rate', extra_attributes=[], use_time=True, alpha=None, delivery_id_transform_method='category_mean', ntrees=10, learn_rate=0.5, max_depth=10, categorical_encoding='enum', split_method='mask', attr_to_match=['DELIVERY_ID', 'TIME_ID'], tuning_times=3, max_try=1000, seed=1, split_proportion=0.7)"
      ]
     },
     "execution_count": 20,
     "metadata": {},
     "output_type": "execute_result"
    }
   ],
   "source": [
    "# orginal hyper parameters\n",
    "gbm.hyperparams"
   ]
  },
  {
   "cell_type": "code",
   "execution_count": 21,
   "metadata": {
    "ExecuteTime": {
     "end_time": "2019-08-09T04:10:46.121959Z",
     "start_time": "2019-08-09T04:10:29.026751Z"
    }
   },
   "outputs": [
    {
     "name": "stdout",
     "output_type": "stream",
     "text": [
      "Tuning parameters ...\n",
      "0 (1)1 (1)2 (2)\n",
      "Total para combinations: 8\n",
      "Current iter: 0,1,2,3,4,5,6,7,Complete.\n",
      "{'learn_rate': 0.1, 'max_depth': 20, 'ntrees': 30}\n"
     ]
    },
    {
     "data": {
      "text/plain": [
       "<sto.variants.gbm.prior_gbm.GBM at 0x1a26dc50b8>"
      ]
     },
     "execution_count": 21,
     "metadata": {},
     "output_type": "execute_result"
    }
   ],
   "source": [
    "# create a grid of parameters to tune\n",
    "paras_dict = {'ntrees': [20, 30], 'learn_rate': [0.1, 0.2], 'max_depth': [10, 20]}\n",
    "gbm.train(df_selected_i, para_dict=paras_dict, tuning=True)"
   ]
  },
  {
   "cell_type": "code",
   "execution_count": 22,
   "metadata": {
    "ExecuteTime": {
     "end_time": "2019-08-09T04:10:46.327180Z",
     "start_time": "2019-08-09T04:10:46.289224Z"
    }
   },
   "outputs": [
    {
     "data": {
      "text/plain": [
       "GbmHyperParas(label_col='label', delivery_id_col='DELIVERY_ID', time_id_col='TIME_ID', column_types={'TIME_ID': 'factor', 'label': 'factor'}, weight_column='weight_count', sent_count_col='sent_count', response_count_col='response_count', response_rate_col='response_rate', score_col='pred_rate', extra_attributes=[], use_time=True, alpha=None, delivery_id_transform_method='category_mean', ntrees=30, learn_rate=0.1, max_depth=20, categorical_encoding='enum', split_method='mask', attr_to_match=['DELIVERY_ID', 'TIME_ID'], tuning_times=3, max_try=1000, seed=1, split_proportion=0.7)"
      ]
     },
     "execution_count": 22,
     "metadata": {},
     "output_type": "execute_result"
    }
   ],
   "source": [
    "# the hyperparams inside gbm has been set the the best one and the model is retrained\n",
    "gbm.hyperparams"
   ]
  },
  {
   "cell_type": "code",
   "execution_count": 23,
   "metadata": {
    "ExecuteTime": {
     "end_time": "2019-08-09T04:10:47.281666Z",
     "start_time": "2019-08-09T04:10:46.507135Z"
    }
   },
   "outputs": [
    {
     "data": {
      "text/plain": [
       "OrderedDict([('ap_at_3_lift_del_mean', 0.05771903130418751),\n",
       "             ('ap_at_3_lift_del_std', 0.03284796966278112),\n",
       "             ('top_1_lift_del_mean', 0.052776587912613714),\n",
       "             ('top_1_lift_del_std', 0.04857966164702544)])"
      ]
     },
     "execution_count": 23,
     "metadata": {},
     "output_type": "execute_result"
    }
   ],
   "source": [
    "# evaluate\n",
    "gbm.evaluate(df)"
   ]
  },
  {
   "cell_type": "markdown",
   "metadata": {},
   "source": [
    "# Train model with extra attributes"
   ]
  },
  {
   "cell_type": "code",
   "execution_count": 24,
   "metadata": {
    "ExecuteTime": {
     "end_time": "2019-08-09T04:10:47.545242Z",
     "start_time": "2019-08-09T04:10:47.464570Z"
    }
   },
   "outputs": [],
   "source": [
    "dat_adobecom = pd.read_csv('../data/Adobecom_delivery_counts.csv')\n",
    "\n",
    "dat_adobecom.rename(columns={\"SENT_COUNT\": \"sent_count\",\"RESPONSE_COUNT\": \"response_count\"}, \n",
    "                    inplace=True)\n",
    "dat_adobecom['DATE'] = pd.to_datetime(dat_adobecom['DATE']) "
   ]
  },
  {
   "cell_type": "code",
   "execution_count": 25,
   "metadata": {
    "ExecuteTime": {
     "end_time": "2019-08-09T04:10:47.770532Z",
     "start_time": "2019-08-09T04:10:47.721066Z"
    }
   },
   "outputs": [
    {
     "data": {
      "text/html": [
       "<div>\n",
       "<style scoped>\n",
       "    .dataframe tbody tr th:only-of-type {\n",
       "        vertical-align: middle;\n",
       "    }\n",
       "\n",
       "    .dataframe tbody tr th {\n",
       "        vertical-align: top;\n",
       "    }\n",
       "\n",
       "    .dataframe thead th {\n",
       "        text-align: right;\n",
       "    }\n",
       "</style>\n",
       "<table border=\"1\" class=\"dataframe\">\n",
       "  <thead>\n",
       "    <tr style=\"text-align: right;\">\n",
       "      <th></th>\n",
       "      <th>PRODUCT_PROMOTED</th>\n",
       "      <th>INDUSTRY</th>\n",
       "      <th>REGION</th>\n",
       "      <th>PURPOSE</th>\n",
       "      <th>DATE</th>\n",
       "      <th>DELIVERY_ID</th>\n",
       "      <th>TIME_ID</th>\n",
       "      <th>sent_count</th>\n",
       "      <th>response_count</th>\n",
       "    </tr>\n",
       "  </thead>\n",
       "  <tbody>\n",
       "    <tr>\n",
       "      <th>0</th>\n",
       "      <td>Creative Cloud</td>\n",
       "      <td>Commercial</td>\n",
       "      <td>North America</td>\n",
       "      <td>Other</td>\n",
       "      <td>2019-04-09</td>\n",
       "      <td>DM337552</td>\n",
       "      <td>6</td>\n",
       "      <td>8979</td>\n",
       "      <td>1012.0</td>\n",
       "    </tr>\n",
       "    <tr>\n",
       "      <th>1</th>\n",
       "      <td>Creative Cloud</td>\n",
       "      <td>Commercial</td>\n",
       "      <td>EMEA</td>\n",
       "      <td>Promo</td>\n",
       "      <td>2019-05-22</td>\n",
       "      <td>DM346463</td>\n",
       "      <td>13</td>\n",
       "      <td>986</td>\n",
       "      <td>48.0</td>\n",
       "    </tr>\n",
       "    <tr>\n",
       "      <th>2</th>\n",
       "      <td>Document Cloud</td>\n",
       "      <td>Commercial</td>\n",
       "      <td>North America</td>\n",
       "      <td>Conversion</td>\n",
       "      <td>2019-06-18</td>\n",
       "      <td>DM351255</td>\n",
       "      <td>14</td>\n",
       "      <td>98579</td>\n",
       "      <td>15525.0</td>\n",
       "    </tr>\n",
       "    <tr>\n",
       "      <th>3</th>\n",
       "      <td>Creative Cloud</td>\n",
       "      <td>Creative Cloud Membership</td>\n",
       "      <td>Japan</td>\n",
       "      <td>Direct/Channel Sales</td>\n",
       "      <td>2019-07-09</td>\n",
       "      <td>DM355416</td>\n",
       "      <td>14</td>\n",
       "      <td>1356</td>\n",
       "      <td>68.0</td>\n",
       "    </tr>\n",
       "    <tr>\n",
       "      <th>4</th>\n",
       "      <td>Creative Cloud</td>\n",
       "      <td>Commercial</td>\n",
       "      <td>EMEA</td>\n",
       "      <td>Conversion</td>\n",
       "      <td>2019-07-02</td>\n",
       "      <td>DM353699</td>\n",
       "      <td>9</td>\n",
       "      <td>28923</td>\n",
       "      <td>6900.0</td>\n",
       "    </tr>\n",
       "  </tbody>\n",
       "</table>\n",
       "</div>"
      ],
      "text/plain": [
       "  PRODUCT_PROMOTED                   INDUSTRY         REGION  \\\n",
       "0   Creative Cloud                 Commercial  North America   \n",
       "1   Creative Cloud                 Commercial           EMEA   \n",
       "2   Document Cloud                 Commercial  North America   \n",
       "3   Creative Cloud  Creative Cloud Membership          Japan   \n",
       "4   Creative Cloud                 Commercial           EMEA   \n",
       "\n",
       "                PURPOSE       DATE DELIVERY_ID  TIME_ID  sent_count  \\\n",
       "0                 Other 2019-04-09    DM337552        6        8979   \n",
       "1                 Promo 2019-05-22    DM346463       13         986   \n",
       "2            Conversion 2019-06-18    DM351255       14       98579   \n",
       "3  Direct/Channel Sales 2019-07-09    DM355416       14        1356   \n",
       "4            Conversion 2019-07-02    DM353699        9       28923   \n",
       "\n",
       "   response_count  \n",
       "0          1012.0  \n",
       "1            48.0  \n",
       "2         15525.0  \n",
       "3            68.0  \n",
       "4          6900.0  "
      ]
     },
     "execution_count": 25,
     "metadata": {},
     "output_type": "execute_result"
    }
   ],
   "source": [
    "dat_adobecom.head()"
   ]
  },
  {
   "cell_type": "code",
   "execution_count": 26,
   "metadata": {
    "ExecuteTime": {
     "end_time": "2019-08-09T04:10:48.004982Z",
     "start_time": "2019-08-09T04:10:47.964859Z"
    }
   },
   "outputs": [],
   "source": [
    "#train test date range\n",
    "train_date_range = [pd.Timestamp(2019, 4, 1), pd.Timestamp(2019, 6, 15)]\n",
    "test_date_range = [pd.Timestamp(2019, 6, 16), pd.Timestamp(2019, 7, 3)]\n",
    "thred_list = [100]"
   ]
  },
  {
   "cell_type": "code",
   "execution_count": 27,
   "metadata": {
    "ExecuteTime": {
     "end_time": "2019-08-09T04:10:48.226322Z",
     "start_time": "2019-08-09T04:10:48.187448Z"
    }
   },
   "outputs": [],
   "source": [
    "extra_attributes = ['PRODUCT_PROMOTED', 'PURPOSE', 'INDUSTRY', 'REGION']"
   ]
  },
  {
   "cell_type": "code",
   "execution_count": 28,
   "metadata": {
    "ExecuteTime": {
     "end_time": "2019-08-09T04:10:48.445978Z",
     "start_time": "2019-08-09T04:10:48.407185Z"
    }
   },
   "outputs": [],
   "source": [
    "training_time_range = train_date_range\n",
    "testing_time_range = test_date_range\n",
    "sent_count_thred = thred_list\n",
    "date_col='DATE'\n",
    "sent_count_col=\"sent_count\""
   ]
  },
  {
   "cell_type": "code",
   "execution_count": 29,
   "metadata": {
    "ExecuteTime": {
     "end_time": "2019-08-09T04:10:48.700155Z",
     "start_time": "2019-08-09T04:10:48.624213Z"
    }
   },
   "outputs": [],
   "source": [
    "cols_to_match = extra_attributes + ['TIME_ID']\n",
    "df_intime_whole, df_oot_whole = select_tr_te_dat(df=dat_adobecom, \n",
    "                                                 training_time_range=train_date_range, \n",
    "                                                 testing_time_range=test_date_range, \n",
    "                                                 sent_count_thred=thred_list,\n",
    "                                                 date_col='DATE',\n",
    "                                                 sent_count_col=\"sent_count\", \n",
    "                                                 cols_to_match=cols_to_match)"
   ]
  },
  {
   "cell_type": "code",
   "execution_count": 30,
   "metadata": {
    "ExecuteTime": {
     "end_time": "2019-08-09T04:12:56.391836Z",
     "start_time": "2019-08-09T04:10:48.920113Z"
    }
   },
   "outputs": [
    {
     "name": "stdout",
     "output_type": "stream",
     "text": [
      "Tuning parameters ...\n",
      "0,(1)1,(1)2,(1)\n",
      "Total para combinations: 2\n",
      "Current iter: 0,1,Complete.\n",
      "{'learn_rate': 0.1, 'max_depth': 10, 'ntrees': 20}\n"
     ]
    },
    {
     "data": {
      "text/plain": [
       "OrderedDict([('ap_at_3_lift_del_mean', 0.036498556493208024),\n",
       "             ('ap_at_3_lift_del_std', 0.2014212540289617),\n",
       "             ('top_1_lift_del_mean', 0.1410067163447342),\n",
       "             ('top_1_lift_del_std', 0.4058157250600699)])"
      ]
     },
     "execution_count": 30,
     "metadata": {},
     "output_type": "execute_result"
    }
   ],
   "source": [
    "# add extra_attributes in GbmHyperParas, which defaults to an empty list:[]\n",
    "gbm_hyperparameter = GbmHyperParas(split_method='split', tuning_times=3,\n",
    "                                  extra_attributes=extra_attributes)\n",
    "GBM_extra_attr_main = GBM(gbm_hyperparameter)\n",
    "paras_dict = {'ntrees': [20, 30], 'learn_rate': [0.1], 'max_depth': [10]}\n",
    "\n",
    "GBM_extra_attr_main.train(df_intime_whole, para_dict=paras_dict, tuning=True)\n",
    "\n",
    "GBM_extra_attr_main.evaluate(df_oot_whole[0])"
   ]
  },
  {
   "cell_type": "code",
   "execution_count": 31,
   "metadata": {
    "ExecuteTime": {
     "end_time": "2019-08-09T04:12:56.718927Z",
     "start_time": "2019-08-09T04:12:56.641097Z"
    }
   },
   "outputs": [
    {
     "name": "stdout",
     "output_type": "stream",
     "text": [
      "H2O session _sid_bf12 closed.\n"
     ]
    }
   ],
   "source": [
    "h2o.cluster().shutdown()"
   ]
  },
  {
   "cell_type": "code",
   "execution_count": null,
   "metadata": {},
   "outputs": [],
   "source": []
  }
 ],
 "metadata": {
  "kernelspec": {
   "display_name": "Python 3",
   "language": "python",
   "name": "python3"
  },
  "language_info": {
   "codemirror_mode": {
    "name": "ipython",
    "version": 3
   },
   "file_extension": ".py",
   "mimetype": "text/x-python",
   "name": "python",
   "nbconvert_exporter": "python",
   "pygments_lexer": "ipython3",
   "version": "3.7.3"
  },
  "latex_envs": {
   "LaTeX_envs_menu_present": true,
   "autoclose": false,
   "autocomplete": true,
   "bibliofile": "biblio.bib",
   "cite_by": "apalike",
   "current_citInitial": 1,
   "eqLabelWithNumbers": true,
   "eqNumInitial": 1,
   "hotkeys": {
    "equation": "Ctrl-E",
    "itemize": "Ctrl-I"
   },
   "labels_anchors": false,
   "latex_user_defs": false,
   "report_style_numbering": false,
   "user_envs_cfg": false
  },
  "toc": {
   "base_numbering": 1,
   "nav_menu": {},
   "number_sections": true,
   "sideBar": true,
   "skip_h1_title": false,
   "title_cell": "Table of Contents",
   "title_sidebar": "Contents",
   "toc_cell": false,
   "toc_position": {},
   "toc_section_display": true,
   "toc_window_display": false
  },
  "varInspector": {
   "cols": {
    "lenName": 16,
    "lenType": 16,
    "lenVar": 40
   },
   "kernels_config": {
    "python": {
     "delete_cmd_postfix": "",
     "delete_cmd_prefix": "del ",
     "library": "var_list.py",
     "varRefreshCmd": "print(var_dic_list())"
    },
    "r": {
     "delete_cmd_postfix": ") ",
     "delete_cmd_prefix": "rm(",
     "library": "var_list.r",
     "varRefreshCmd": "cat(var_dic_list()) "
    }
   },
   "types_to_exclude": [
    "module",
    "function",
    "builtin_function_or_method",
    "instance",
    "_Feature"
   ],
   "window_display": false
  }
 },
 "nbformat": 4,
 "nbformat_minor": 2
}
